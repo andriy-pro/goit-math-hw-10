{
 "cells": [
  {
   "cell_type": "markdown",
   "metadata": {},
   "source": [
    "# ***\"Методи прийняття рішень\"***"
   ]
  },
  {
   "cell_type": "markdown",
   "metadata": {},
   "source": [
    "## Завдання\n",
    "\n",
    "### **Мета**\n",
    "\n",
    "Маючи вхідний набір даних, опрацювати його, розв’язати задачу прогнозування ціни оренди нерухомості, описати свої дії у презентації.\n",
    "\n",
    "Рішення міститиме **Jupyter Notebook** та презентацію. Тут описані вимоги до **Jupyter Notebook**.\n",
    "\n",
    "### **Вимоги**\n",
    "Розв’язок має складатися з 3-х основних частин:\n",
    "1. Аналіз та підготовка даних.\n",
    "2. Моделювання.\n",
    "3. Аналіз результатів.\n",
    "\n",
    "\n",
    "**Частина 1. Аналіз та підготовка даних**\n",
    "\n",
    "- Проаналізуй діапазони значень, їх середні та дисперсію, розподіли, кореляції, наявність пропущених значень, типи ознак.\n",
    "- Перевір на наявність пропущених значень. За наявності заповни їх або видали рядки з пропусками.\n",
    "- За наявності бінарних ознак заміни значення цих ознак на 0 та 1.\n",
    "- За потреби певні дані можуть бути видалено або модифіковано.\n",
    "\n",
    "**Частина 2. Моделювання**\n",
    "\n",
    "- Створи як мінімум 2 різні регресійні моделі для прогнозування цільової змінної “Rent”. \n",
    "- Моделі вважаються різними, якщо вони базуються на різних даних або є різними типами моделей.\n",
    "- Оціни якість моделей як мінімум за 2 метриками.\n",
    "- Оцінка має бути проведена або на тестовій вибірці, або за допомогою крос-валідації.\n",
    "\n",
    "**Частина 3. Аналіз результатів**\n",
    "\n",
    "- Для всіх моделей побудуй графіки порівняння справжніх та спрогнозованих даних.\n",
    "- Зроби висновки, на яких прикладах кожна модель більше помиляється.\n",
    "- Зроби порівняння якості моделей. Напиши висновки.\n",
    "\n",
    "**Додатково**\n",
    "- Проаналізуй ознаки на мультиколінеарність (Variance inflation factor).\n",
    "- Знайди оптимальні значення параметрів моделей, наприклад, за допомогою алгоритму GridSearch.\n",
    "- Проаналізуй важливість ознак (feature importance).\n",
    "- Побудуй графік залишків (residuals plot).\n",
    "\n",
    "### **Джерело даних** \n",
    "\n",
    "[**Датасет \"House Rent Prediction Dataset”:**](https://docs.google.com/spreadsheets/d/1OPnEAT64Patnj_Ifhwn_pM1c15rsBNIoFrtz38A1_W4/edit?gid=881312933#gid=881312933)\n",
    "\n",
    "https://docs.google.com/spreadsheets/d/1OPnEAT64Patnj_Ifhwn_pM1c15rsBNIoFrtz38A1_W4/edit?gid=881312933#gid=881312933"
   ]
  },
  {
   "cell_type": "markdown",
   "metadata": {},
   "source": [
    "## **ЧАСТИНА 1: *Аналіз та підготовка даних***"
   ]
  },
  {
   "cell_type": "markdown",
   "metadata": {},
   "source": [
    "### Отримання даних з посилання на Google Sheets\n",
    "\n",
    "У зв'язку з тим, що початковий документ, посилання на який дано в завданні, містить різні аркуші, було вирішено почати підготовку даних з пошуку та завантаження саме того аркушу, що містить у назві ключові слова. Для цього було розроблено скрипт на Python, який автоматизує цей процес.\n",
    "\n",
    "**Функція `find_csv_link_by_keywords`**\n",
    "\n",
    "Ця функція приймає URL на Google Sheets документ та список ключових слів. Вона здійснює такі кроки:\n",
    "1. Завантажує HTML-код сторінки за вказаним URL.\n",
    "2. Парсить HTML-код для пошуку назв аркушів у документі.\n",
    "3. Перевіряє, чи містять назви аркушів вказані ключові слова.\n",
    "4. Якщо знаходиться відповідний аркуш, функція формує URL для експорту цього аркуша у форматі `.csv` і повертає цей URL. Якщо аркуш не знайдено, повертається повідомлення про помилку.\n",
    "\n",
    "**Функція `get_spreadsheet_id`**\n",
    "\n",
    "Ця допоміжна функція витягує ідентифікатор документа з URL-адреси Google Sheets. Вона використовується в `find_csv_link_by_keywords` для правильного формування URL на `.csv` документ.\n",
    "\n",
    "**Функція `is_csv_url`**\n",
    "\n",
    "Перевіряє, чи вказує передана URL-адреса на `.csv` документ. Вона надсилає HTTP-запит типу HEAD до URL і аналізує заголовок `Content-Type`. Якщо заголовок вказує на тип `text/csv`, функція повертає `True`, інакше `False`. Це дозволяє уникнути помилок при завантаженні даних з неправильного формату.\n"
   ]
  },
  {
   "cell_type": "code",
   "execution_count": 169,
   "metadata": {},
   "outputs": [
    {
     "name": "stdout",
     "output_type": "stream",
     "text": [
      "Результат роботи функції \"find_csv_link_by_keywords\": https://docs.google.com/spreadsheets/d/1OPnEAT64Patnj_Ifhwn_pM1c15rsBNIoFrtz38A1_W4/gviz/tq?tqx=out:csv&sheet=House_Rent_Dataset\n",
      "Перевірка отриманого посилання: True\n",
      "    Posted On  BHK   Rent  Size            Floor    Area Type  \\\n",
      "0  2022-05-18    2  10000  1100  Ground out of 2   Super Area   \n",
      "1  2022-05-13    2  20000   800       1 out of 3   Super Area   \n",
      "2  2022-05-16    2  17000  1000       1 out of 3   Super Area   \n",
      "3  2022-07-04    2  10000   800       1 out of 2   Super Area   \n",
      "4  2022-05-09    2   7500   850       1 out of 2  Carpet Area   \n",
      "\n",
      "              Area Locality     City Furnishing Status  Tenant Preferred  \\\n",
      "0                    Bandel  Kolkata       Unfurnished  Bachelors/Family   \n",
      "1  Phool Bagan, Kankurgachi  Kolkata    Semi-Furnished  Bachelors/Family   \n",
      "2   Salt Lake City Sector 2  Kolkata    Semi-Furnished  Bachelors/Family   \n",
      "3               Dumdum Park  Kolkata       Unfurnished  Bachelors/Family   \n",
      "4             South Dum Dum  Kolkata       Unfurnished         Bachelors   \n",
      "\n",
      "   Bathroom Point of Contact  \n",
      "0         2    Contact Owner  \n",
      "1         1    Contact Owner  \n",
      "2         1    Contact Owner  \n",
      "3         1    Contact Owner  \n",
      "4         1    Contact Owner  \n"
     ]
    }
   ],
   "source": [
    "import urllib.parse\n",
    "\n",
    "import pandas as pd\n",
    "import requests\n",
    "from bs4 import BeautifulSoup\n",
    "\n",
    "\n",
    "def find_csv_link_by_keywords(url: str, keywords: list) -> str:\n",
    "    \"\"\"\n",
    "    Функція приймає URL на Google Sheets документ і список ключових слів.\n",
    "    Повертає посилання на .csv-документ, що містить дані, пов'язані з цими ключовими словами.\n",
    "\n",
    "    Parameters\n",
    "    ----------\n",
    "    url : str\n",
    "        URL на Google Sheets документ.\n",
    "    keywords : list of str\n",
    "        Список ключових слів для пошуку.\n",
    "\n",
    "    Returns\n",
    "    -------\n",
    "    str\n",
    "        URL на .csv файл або повідомлення про помилку.\n",
    "    \"\"\"\n",
    "    try:\n",
    "        # Отримуємо HTML сторінки за допомогою HTTP запиту\n",
    "        response = requests.get(url)\n",
    "\n",
    "        # Перевіряємо, чи успішний запит (код 200 означає успіх)\n",
    "        if response.status_code != 200:\n",
    "            return f\"Помилка доступу до URL: {response.status_code}\"\n",
    "\n",
    "        # Використовуємо BeautifulSoup для парсингу HTML-коду сторінки\n",
    "        soup = BeautifulSoup(response.text, \"html.parser\")\n",
    "\n",
    "        # Збираємо всі назви аркушів (вони зберігаються в <div> з класом 'docs-sheet-tab')\n",
    "        sheet_titles = [\n",
    "            div.get_text() for div in soup.find_all(\"div\", class_=\"docs-sheet-tab\")\n",
    "        ]\n",
    "\n",
    "        # Перебираємо всі назви аркушів і перевіряємо, чи містять вони ключові слова\n",
    "        for title in sheet_titles:\n",
    "            for keyword in keywords:\n",
    "                # Якщо ключове слово є в назві аркуша (незалежно від регістру)\n",
    "                if keyword.lower() in title.lower():\n",
    "                    # Формуємо URL для експорту аркуша у форматі .csv\n",
    "                    csv_url = (\n",
    "                        f\"https://docs.google.com/spreadsheets/d/\"\n",
    "                        f\"{get_spreadsheet_id(url)}/gviz/tq?tqx=out:csv&sheet=\"\n",
    "                        f\"{urllib.parse.quote(title)}\"\n",
    "                    )\n",
    "                    return csv_url\n",
    "\n",
    "        # Якщо жоден аркуш не відповідає ключовим словам, повертаємо повідомлення\n",
    "        return \"Не знайдено аркушів, що відповідають ключовим словам.\"\n",
    "\n",
    "    except Exception as e:\n",
    "        # Якщо виникла будь-яка інша помилка, повертаємо її опис\n",
    "        return f\"Сталася помилка: {str(e)}\"\n",
    "\n",
    "\n",
    "def get_spreadsheet_id(url: str) -> str:\n",
    "    \"\"\"\n",
    "    Функція для витягування ID документа з URL.\n",
    "\n",
    "    Parameters\n",
    "    ----------\n",
    "    url : str\n",
    "        URL на Google Sheets документ.\n",
    "\n",
    "    Returns\n",
    "    -------\n",
    "    str\n",
    "        ID документа.\n",
    "\n",
    "    Raises\n",
    "    ------\n",
    "    ValueError\n",
    "        Якщо не вдалося витягти ID документа з URL.\n",
    "    \"\"\"\n",
    "    # Парсимо URL для отримання окремих частин\n",
    "    parsed_url = urllib.parse.urlparse(url)\n",
    "    path_parts = parsed_url.path.split(\"/\")\n",
    "\n",
    "    # Ідентифікатор документа знаходиться між 'd' і наступним елементом у URL\n",
    "    if \"d\" in path_parts:\n",
    "        return path_parts[path_parts.index(\"d\") + 1]\n",
    "    else:\n",
    "        # Якщо структура URL не відповідає очікуваній, генеруємо помилку\n",
    "        raise ValueError(\"Не вдалося витягти ID документа з URL.\")\n",
    "\n",
    "\n",
    "def is_csv_url(url: str) -> bool:\n",
    "    \"\"\"\n",
    "    Функція перевіряє, чи вказує передана URL-адреса на .csv-документ.\n",
    "\n",
    "    Parameters\n",
    "    ----------\n",
    "    url : str\n",
    "        URL для перевірки.\n",
    "\n",
    "    Returns\n",
    "    -------\n",
    "    bool\n",
    "        True, якщо URL вказує на .csv документ, інакше False.\n",
    "    \"\"\"\n",
    "    try:\n",
    "        # Здійснюємо запит до URL\n",
    "        response = requests.head(url, allow_redirects=True)\n",
    "\n",
    "        # Перевіряємо заголовки, зокрема Content-Type\n",
    "        content_type = response.headers.get(\"Content-Type\", \"\")\n",
    "\n",
    "        # Повертаємо True, якщо Content-Type вказує на CSV\n",
    "        return \"text/csv\" in content_type\n",
    "    except Exception as e:\n",
    "        print(f\"Помилка при перевірці URL: {str(e)}\")\n",
    "        return False\n",
    "\n",
    "\n",
    "# Тестування функції\n",
    "keywords = [\"house\", \"rent\"]\n",
    "spreadsheet_url = \"https://docs.google.com/spreadsheets/d/1OPnEAT64Patnj_Ifhwn_pM1c15rsBNIoFrtz38A1_W4/edit?gid=881312933#gid=881312933\"\n",
    "csv_link = find_csv_link_by_keywords(spreadsheet_url, keywords)\n",
    "print(f'Результат роботи функції \"find_csv_link_by_keywords\": {csv_link}')\n",
    "\n",
    "print(f'Перевірка отриманого посилання: {csv_link.startswith(\"http\")}')\n",
    "# Перевірка, чи URL вказує на .csv файл\n",
    "if is_csv_url(csv_link):\n",
    "    # Завантажуємо дані у DataFrame за допомогою pandas\n",
    "    df = pd.read_csv(csv_link)\n",
    "    # Виводимо перші 5 рядків таблиці для перевірки\n",
    "    print(df.head())\n",
    "else:\n",
    "    print(\"Помилка: не вдалося завантажити дані.\")\n",
    "\n"
   ]
  },
  {
   "cell_type": "markdown",
   "metadata": {},
   "source": [
    "### Аналіз та підготовка даних"
   ]
  },
  {
   "cell_type": "markdown",
   "metadata": {},
   "source": [
    "#### Завантаження та попередній огляд даних\n",
    "\n",
    "Спершу завантажимо набір даних і подивимося на перші кілька рядків, щоб зрозуміти структуру та зміст даних.\n",
    "Для завантаження скористаємось функцією `find_csv_link_by_keywords`, створеною раніше."
   ]
  },
  {
   "cell_type": "code",
   "execution_count": 170,
   "metadata": {},
   "outputs": [
    {
     "name": "stdout",
     "output_type": "stream",
     "text": [
      "Перші кілька рядків даних:\n",
      "    Posted On  BHK   Rent  Size            Floor    Area Type  \\\n",
      "0  2022-05-18    2  10000  1100  Ground out of 2   Super Area   \n",
      "1  2022-05-13    2  20000   800       1 out of 3   Super Area   \n",
      "2  2022-05-16    2  17000  1000       1 out of 3   Super Area   \n",
      "3  2022-07-04    2  10000   800       1 out of 2   Super Area   \n",
      "4  2022-05-09    2   7500   850       1 out of 2  Carpet Area   \n",
      "\n",
      "              Area Locality     City Furnishing Status  Tenant Preferred  \\\n",
      "0                    Bandel  Kolkata       Unfurnished  Bachelors/Family   \n",
      "1  Phool Bagan, Kankurgachi  Kolkata    Semi-Furnished  Bachelors/Family   \n",
      "2   Salt Lake City Sector 2  Kolkata    Semi-Furnished  Bachelors/Family   \n",
      "3               Dumdum Park  Kolkata       Unfurnished  Bachelors/Family   \n",
      "4             South Dum Dum  Kolkata       Unfurnished         Bachelors   \n",
      "\n",
      "   Bathroom Point of Contact  \n",
      "0         2    Contact Owner  \n",
      "1         1    Contact Owner  \n",
      "2         1    Contact Owner  \n",
      "3         1    Contact Owner  \n",
      "4         1    Contact Owner  \n"
     ]
    }
   ],
   "source": [
    "keywords = [\"house\", \"rent\"]\n",
    "spreadsheet_url = \"https://docs.google.com/spreadsheets/d/1OPnEAT64Patnj_Ifhwn_pM1c15rsBNIoFrtz38A1_W4/edit?gid=881312933#gid=881312933\"\n",
    "csv_link = find_csv_link_by_keywords(spreadsheet_url, keywords)\n",
    "\n",
    "# Виведення перших 5 рядків (за замовчуванням) набору даних\n",
    "print(\"Перші кілька рядків даних:\")\n",
    "print(df.head())\n"
   ]
  },
  {
   "cell_type": "markdown",
   "metadata": {},
   "source": [
    "#### Перевірка на наявність пропущених значень\n",
    "\n",
    "Далі перевіримо, чи є в наборі даних пропущені значення. Це важливо, оскільки пропущені значення можуть вплинути на точність моделі прогнозування."
   ]
  },
  {
   "cell_type": "code",
   "execution_count": 171,
   "metadata": {},
   "outputs": [
    {
     "name": "stdout",
     "output_type": "stream",
     "text": [
      "\n",
      "Кількість пропущених значень у кожному стовпчику:\n",
      "Posted On            0\n",
      "BHK                  0\n",
      "Rent                 0\n",
      "Size                 0\n",
      "Floor                0\n",
      "Area Type            0\n",
      "Area Locality        0\n",
      "City                 0\n",
      "Furnishing Status    0\n",
      "Tenant Preferred     0\n",
      "Bathroom             0\n",
      "Point of Contact     0\n",
      "dtype: int64\n"
     ]
    }
   ],
   "source": [
    "# Перевірка на наявність пропущених значень\n",
    "missing_values = df.isnull().sum()\n",
    "\n",
    "# Виведення кількості пропущених значень для кожного стовпчика\n",
    "print(\"\\nКількість пропущених значень у кожному стовпчику:\")\n",
    "print(missing_values)"
   ]
  },
  {
   "cell_type": "markdown",
   "metadata": {},
   "source": [
    "Згідно з результатами, в наборі даних пропущених значеннь на виявлено.\n",
    "\n",
    "У разі, якщо пропущені дані було знайдено, можна було б:\n",
    "1. Заповнити відсутні комірки (для числових даних):\n",
    "   - середніми значеннями,\n",
    "   - медіаною,\n",
    "   - або модою.\n",
    "2. Передбачити їх на основі інших змінних.\n",
    "3. Видалити рядки з пропущеними значеннями. "
   ]
  },
  {
   "cell_type": "markdown",
   "metadata": {},
   "source": [
    "#### Описова статистика та аналіз розподілів\n",
    "\n",
    "Переглянемо основні статистичні показники для кожного стовпчика даних. Це дозволить зрозуміти діапазони значень, середні, дисперсії та стандартні відхилення. Ці дані допоможуть зрозуміти розподіли числових змінних, знайти можливі аномалії або невідповідності, а також побачити, які змінні є числовими, а які — категоріальними."
   ]
  },
  {
   "cell_type": "code",
   "execution_count": 172,
   "metadata": {},
   "outputs": [
    {
     "name": "stdout",
     "output_type": "stream",
     "text": [
      "\n",
      "Типи даних у наборі:\n",
      "Posted On            object\n",
      "BHK                   int64\n",
      "Rent                  int64\n",
      "Size                  int64\n",
      "Floor                object\n",
      "Area Type            object\n",
      "Area Locality        object\n",
      "City                 object\n",
      "Furnishing Status    object\n",
      "Tenant Preferred     object\n",
      "Bathroom              int64\n",
      "Point of Contact     object\n",
      "dtype: object\n",
      "\n",
      "Описова статистика для числових стовпців:\n",
      "               BHK          Rent         Size     Bathroom\n",
      "count  4746.000000  4.746000e+03  4746.000000  4746.000000\n",
      "mean      2.083860  3.499345e+04   967.490729     1.965866\n",
      "std       0.832256  7.810641e+04   634.202328     0.884532\n",
      "min       1.000000  1.200000e+03    10.000000     1.000000\n",
      "25%       2.000000  1.000000e+04   550.000000     1.000000\n",
      "50%       2.000000  1.600000e+04   850.000000     2.000000\n",
      "75%       3.000000  3.300000e+04  1200.000000     2.000000\n",
      "max       6.000000  3.500000e+06  8000.000000    10.000000\n"
     ]
    }
   ],
   "source": [
    "# Перевірка типів даних\n",
    "print(\"\\nТипи даних у наборі:\")\n",
    "print(df.dtypes)\n",
    "\n",
    "# Описова статистика для числових стовпців\n",
    "print(\"\\nОписова статистика для числових стовпців:\")\n",
    "print(df.describe())"
   ]
  },
  {
   "cell_type": "markdown",
   "metadata": {},
   "source": []
  },
  {
   "cell_type": "markdown",
   "metadata": {},
   "source": [
    "### Ковертація даних у формат datetime\n",
    "\n",
    "Звернемо увагу на те, що колонка \"Posted On\" у наборі даних містить дати і має тип `object`. Дані про дату публікації можуть бути корисними для аналізу, наприклад, для виявлення сезонних трендів або визначення того, як довго оголошення про оренду перебувало на ринку. Щоб уникнути помилок під час обробки даних і підготувати їх для подальшого аналізу, необхідно конвертувати цю колонку у формат datetime. Ось деякі переваги такого перетворення:\n",
    "1. **Обробка дат:** Формат datetime дозволяє виконувати різні операції з датами, такі як обчислення різниці в днях між датами, групування даних за періодами тощо. Це надає можливість більш детального аналізу, ніж просте зберігання дат як рядків.\n",
    "2. **Машинне навчання:** Дати у форматі datetime можуть бути корисними під час побудови моделей, оскільки деякі алгоритми краще працюють з датами, представленими у числовій формі (наприклад, кількість днів від певної дати).\n",
    "3. **Уникнення помилок:** Конвертація до числового формату допоможе уникнути помилок типу ValueError: could not convert string to float, що виникають під час спроби обробити текстові дані як числові."
   ]
  },
  {
   "cell_type": "code",
   "execution_count": 173,
   "metadata": {},
   "outputs": [
    {
     "name": "stdout",
     "output_type": "stream",
     "text": [
      "\n",
      "Типи даних у наборі після перетворення:\n",
      "Posted On            datetime64[ns]\n",
      "BHK                           int64\n",
      "Rent                          int64\n",
      "Size                          int64\n",
      "Floor                        object\n",
      "Area Type                    object\n",
      "Area Locality                object\n",
      "City                         object\n",
      "Furnishing Status            object\n",
      "Tenant Preferred             object\n",
      "Bathroom                      int64\n",
      "Point of Contact             object\n",
      "dtype: object\n",
      "Перші кілька рядків даних після перетворення:\n",
      "   Posted On  BHK   Rent  Size            Floor    Area Type  \\\n",
      "0 2022-05-18    2  10000  1100  Ground out of 2   Super Area   \n",
      "1 2022-05-13    2  20000   800       1 out of 3   Super Area   \n",
      "2 2022-05-16    2  17000  1000       1 out of 3   Super Area   \n",
      "3 2022-07-04    2  10000   800       1 out of 2   Super Area   \n",
      "4 2022-05-09    2   7500   850       1 out of 2  Carpet Area   \n",
      "\n",
      "              Area Locality     City Furnishing Status  Tenant Preferred  \\\n",
      "0                    Bandel  Kolkata       Unfurnished  Bachelors/Family   \n",
      "1  Phool Bagan, Kankurgachi  Kolkata    Semi-Furnished  Bachelors/Family   \n",
      "2   Salt Lake City Sector 2  Kolkata    Semi-Furnished  Bachelors/Family   \n",
      "3               Dumdum Park  Kolkata       Unfurnished  Bachelors/Family   \n",
      "4             South Dum Dum  Kolkata       Unfurnished         Bachelors   \n",
      "\n",
      "   Bathroom Point of Contact  \n",
      "0         2    Contact Owner  \n",
      "1         1    Contact Owner  \n",
      "2         1    Contact Owner  \n",
      "3         1    Contact Owner  \n",
      "4         1    Contact Owner  \n"
     ]
    }
   ],
   "source": [
    "# Перетворюємо колонку \"Posted On\" у формат datetime\n",
    "df['Posted On'] = pd.to_datetime(df['Posted On'], format='%Y-%m-%d')\n",
    "\n",
    "# Перевірка типів даних\n",
    "print(\"\\nТипи даних у наборі після перетворення:\")\n",
    "print(df.dtypes)\n",
    "\n",
    "# Виведення перших 5 рядків (за замовчуванням) набору даних\n",
    "print(\"Перші кілька рядків даних після перетворення:\")\n",
    "print(df.head())"
   ]
  },
  {
   "cell_type": "markdown",
   "metadata": {},
   "source": [
    "#### Перетворення бінарних змінних\n",
    "\n",
    "Спробуємо знайти в наборі даних бінарні змінні та перетворити їх на числові. Це може бути корисно для подальшого аналізу та моделювання.\n",
    "Для цього переглянемо унікальні значення кожного стовпчика та визначимо, які з них можна вважати бінарними."
   ]
  },
  {
   "cell_type": "code",
   "execution_count": 174,
   "metadata": {},
   "outputs": [
    {
     "data": {
      "text/plain": [
       "Posted On              81\n",
       "BHK                     6\n",
       "Rent                  243\n",
       "Size                  615\n",
       "Floor                 480\n",
       "Area Type               3\n",
       "Area Locality        2235\n",
       "City                    6\n",
       "Furnishing Status       3\n",
       "Tenant Preferred        3\n",
       "Bathroom                8\n",
       "Point of Contact        3\n",
       "dtype: int64"
      ]
     },
     "execution_count": 174,
     "metadata": {},
     "output_type": "execute_result"
    }
   ],
   "source": [
    "df.nunique()"
   ]
  },
  {
   "cell_type": "markdown",
   "metadata": {},
   "source": [
    "Як бачимо, в наборі даних немає бінарних змінних, але є ознаки, що мають невелику кількість унікальних значеннь.\n",
    "Розглянемо їх окремо та вирішимо, як їх краще перетворити для подальшого аналізу."
   ]
  },
  {
   "cell_type": "markdown",
   "metadata": {},
   "source": [
    "##### *Ознаки з **трьома** унікальними значеннями*\n",
    "\n",
    "Наступні ознаки мають три унікальних значення:\n",
    "\n",
    "- **Area Type**\n",
    "- **Furnishing Status**\n",
    "- **Tenant Preferred**\n",
    "- **Point of Contact**\n",
    "\n",
    "Кожна з цих ознак може мати вплив на цільову змінну \"Rent\", тому їх слід перетворити на числові для подальшого аналізу та моделювання.\n",
    "Ці ознаки можуть бути зведені до бінарних значень або закодовані за допомогою методу \"one-hot encoding\". Наприклад, ознаку **Furnishing Status** можна перетворити на три бінарні змінні: `Is_Unfurnished`, `Is_Semi_Furnished`, `Is_Furnished`. Це дозволить ефективніше працювати з цими змінними в моделях машинного навчання, зокрема, у регресійних моделях, де потрібно обробляти категоріальні змінні як числові.\n",
    "\n",
    "**One-Hot Encoding**: Це метод перетворення категоріальних змінних у числові, при якому кожне унікальне значення категоріальної змінної перетворюється в окрему бінарну змінну. Цей підхід дозволяє уникнути порядкової інтерпретації категорій, що може бути корисним у моделях машинного навчання.\n",
    "\n",
    "Щоб застосувати метод \"One-Hot Encoding\" до, ви скористаємось функцією `pd.get_dummies()` із бібліотеки `pandas`. Цей метод дозволяє перетворити категоріальні змінні на бінарні, де кожна категорія перетворюється в окрему колонку.\n",
    "\n",
    "Зауважимо, що опція `drop_first=True` вказує на те, щоб уникнути пастки фіктивних змінних (\"dummy variable trap\"), тобто автоматично видалити одну з нових бінарних колонок для кожної категоріальної змінної. Це знижує [**мультиколінеарність**](https://uk.wikipedia.org/wiki/Мультиколінеарність) у регресійних моделях."
   ]
  },
  {
   "cell_type": "code",
   "execution_count": 175,
   "metadata": {},
   "outputs": [],
   "source": [
    "# Вибираємо категоріальні колонки, до яких хочемо застосувати One-Hot Encoding\n",
    "categorical_columns = ['Area Type', 'Furnishing Status', 'Tenant Preferred', 'Point of Contact']\n",
    "\n",
    "# Застосовуємо One-Hot Encoding до обраних колонок\n",
    "df = pd.get_dummies(df, columns=categorical_columns, drop_first=True)"
   ]
  },
  {
   "cell_type": "markdown",
   "metadata": {},
   "source": [
    "##### *Перетворення ознаки **\"City\"***\n",
    "\n",
    "Ознака \"City\" має 6 унікальних значень. Це категоріальна змінна, яка без сумніву впливає на цільову змінну \"Rent\". Щоб врахувати цю ознаку у моделі, її також слід перетворити на числові значення. Ми отримаємо 6 нових бінарних змінних, кожна з яких — це назва міста. Це дозволить моделі розрізняти між різними містами та їх впливом на цільову змінну."
   ]
  },
  {
   "cell_type": "code",
   "execution_count": 176,
   "metadata": {},
   "outputs": [
    {
     "name": "stdout",
     "output_type": "stream",
     "text": [
      "['Kolkata' 'Mumbai' 'Bangalore' 'Delhi' 'Chennai' 'Hyderabad']\n"
     ]
    }
   ],
   "source": [
    "# Спершу переглянемо унікальні значення у колонці 'City'\n",
    "print(df['City'].unique())\n",
    "\n",
    "# Застосування One-Hot Encoding до колонки 'City'\n",
    "df = pd.get_dummies(df, columns=['City'], drop_first=True)"
   ]
  },
  {
   "cell_type": "markdown",
   "metadata": {},
   "source": [
    "##### *Перетворення ознаки **\"Floor\"***\n",
    "\n",
    "Як ми бачили раніше, ознака \"Floor\" містить 480 унікальних значень. Аналіз цих значень показує, що вони містять різноманітні формати запису, включаючи номери поверхів, спеціальні позначення (\"Ground\", \"Upper Basement\", \"Lower Basement\"), та відношення (наприклад, \"5 out of 12\" означає, що приміщення розташоване на 5-му поверсі в будівлі з 12 поверхами). \n",
    "\n",
    "Для подальшої обробки цієї колонки можна застосувати такі підходи:\n",
    "\n",
    "1. **Створення двох окремих колонок**\n",
    "\n",
    "Розділимо колонку на дві частини:\n",
    "\n",
    "- **\"Floor_Number\"**: Номер поверху, на якому знаходиться приміщення.\n",
    "- **\"Total_Floors\"**: Загальна кількість поверхів у будівлі.\n",
    "\n",
    "Для цього напишемо код, який виділяє числові значення з рядка і перетворює їх у відповідні колонки. Якщо поверх позначений як \"Ground\", \"Upper Basement\", або \"Lower Basement\", можна закодувати ці значення як -1, 0 та -2 відповідно для \"Floor_Number\".\n",
    "\n",
    "2. **Перетворення категоріальних значень в числові**\n",
    "\n",
    "Такі значення, як \"Ground\", \"Upper Basement\", \"Lower Basement\", можна перетворити на числові:\n",
    "\n",
    "- \"Ground\" = 0\n",
    "- \"Upper Basement\" = -1\n",
    "- \"Lower Basement\" = -2\n",
    "\n",
    "Це дасть змогу використати ці значення в моделях, що вимагають числових даних.\n",
    "\n",
    "3. **Заповнення пропущених даних**\n",
    "\n",
    "Наявність порожніх значень у DataFrame може призвести до проблем у подальшому аналізі та моделюванні. Заповнення пропущених даних — важлива частина підготовки даних, і те, як ми це зробимо, може значно вплинути на результати моделювання.\n",
    "\n",
    "Часто для заповнення пропущених значень використовують такі методи, як середнє значення, медіана, мода, або значення, що зустрічається найчастіше. Однак у нашому випадку, для даних про поверхи, такий підхід може бути неоптимальним і нелогічним. \n",
    "\n",
    "Натомість використаємо наступний підхід:\n",
    "- Якщо не вдалось знайти значення для Floor_Number, можна задати значення 0, що буде означати, що поверх невідомий або що це приміщення на землі, а не у багатоповерхівці.\n",
    "- У випадку, якщо немає інформації про кількість поверхів, можна прирівняти значення Total_Floors до значення Floor_Number. Це буде означати, що відсутність інформації прирівнюється до того, що цей поверх є єдиним у будинку.\n",
    "\n",
    "Код для описаних та додаткових операцій для підготовки даних ознаки \"Floor\" наведено нижче.\n",
    "Після виконання цих операцій ми отримаємо дві нові колонки: \"Floor_Number\" та \"Total_Floors\", які можна використовувати для подальшого аналізу та моделювання замість оригінальної колонки \"Floor\", яку можна видалити без втрати інформації.\n",
    "Для перевірки результатів виведемо випадкові 25 рядків нового DataFrame."
   ]
  },
  {
   "cell_type": "code",
   "execution_count": 177,
   "metadata": {},
   "outputs": [
    {
     "name": "stdout",
     "output_type": "stream",
     "text": [
      "                Floor  Floor_Number  Total_Floors\n",
      "2926       1 out of 4             1             4\n",
      "2898       2 out of 4             2             4\n",
      "357        1 out of 2             1             2\n",
      "348   Ground out of 1             0             1\n",
      "3054       1 out of 4             1             4\n",
      "2280       1 out of 3             1             3\n",
      "1311       2 out of 4             2             4\n",
      "3039       3 out of 4             3             4\n",
      "4637       1 out of 2             1             2\n",
      "684        7 out of 8             7             8\n",
      "2278       2 out of 4             2             4\n",
      "597       3 out of 30             3            30\n",
      "929        5 out of 5             5             5\n",
      "1500       1 out of 4             1             4\n",
      "1474       1 out of 2             1             2\n",
      "4611       2 out of 3             2             3\n",
      "825      14 out of 20            14            20\n",
      "2390  Ground out of 4             0             4\n",
      "751       9 out of 14             9            14\n",
      "2415       2 out of 3             2             3\n",
      "466        3 out of 3             3             3\n",
      "1247      9 out of 16             9            16\n",
      "4224       2 out of 5             2             5\n",
      "4689       2 out of 3             2             3\n",
      "728      11 out of 51            11            51\n"
     ]
    }
   ],
   "source": [
    "# Функція для розділення значень на номер поверху та загальну кількість поверхів\n",
    "def split_floor(floor_value):\n",
    "    if \"Ground\" in floor_value:\n",
    "        if \"out of\" in floor_value:\n",
    "            return 0, int(floor_value.split(\" out of \")[-1])\n",
    "        else:\n",
    "            return 0, 1  # Якщо немає інформації про кількість поверхів, вважаємо, що це єдиний поверх\n",
    "    elif \"Upper Basement\" in floor_value:\n",
    "        return -1, int(floor_value.split(\" out of \")[-1])\n",
    "    elif \"Lower Basement\" in floor_value:\n",
    "        return -2, int(floor_value.split(\" out of \")[-1])\n",
    "    elif \"out of\" in floor_value:\n",
    "        return int(floor_value.split(\" out of \")[0]), int(floor_value.split(\" out of \")[-1])\n",
    "    else:\n",
    "        try:\n",
    "            floor_num = int(floor_value)\n",
    "            return floor_num, floor_num  # Якщо немає інформації про кількість поверхів, прирівнюємо до номера поверху\n",
    "        except ValueError:\n",
    "            return 0, 0  # Якщо значення взагалі не вдалося знайти, задаємо 0 як індикатор невідомих даних\n",
    "\n",
    "# Застосування функції до колонки \"Floor\"\n",
    "df['Floor_Number'], df['Total_Floors'] = zip(*df['Floor'].map(split_floor))\n",
    "\n",
    "# Виведення випадкових 25 рядків для перевірки\n",
    "print(df[['Floor', 'Floor_Number', 'Total_Floors']].sample(25))\n",
    "\n",
    "# Видалення колонки \"Floor\"\n",
    "df = df.drop(columns=['Floor'])"
   ]
  },
  {
   "cell_type": "markdown",
   "metadata": {},
   "source": [
    "##### *Перетворення ознаки **\"Area Locality\"***\n",
    "\n",
    "Фраза, яку часто приписують британському магнату нерухомості Гарольда Семюеля, стверджує:\n",
    "\n",
    "***\"У нерухомості є три найважливіші речі: розташування, розташування і розташування.\"***\n"
   ]
  },
  {
   "cell_type": "code",
   "execution_count": 178,
   "metadata": {},
   "outputs": [
    {
     "name": "stdout",
     "output_type": "stream",
     "text": [
      "   Posted On  BHK   Rent  Size             Area Locality  Bathroom  \\\n",
      "0 2022-05-18    2  10000  1100                    Bandel         2   \n",
      "1 2022-05-13    2  20000   800  Phool Bagan, Kankurgachi         1   \n",
      "2 2022-05-16    2  17000  1000   Salt Lake City Sector 2         1   \n",
      "3 2022-07-04    2  10000   800               Dumdum Park         1   \n",
      "4 2022-05-09    2   7500   850             South Dum Dum         1   \n",
      "\n",
      "   Area Type_Carpet Area  Area Type_Super Area  \\\n",
      "0                      0                     1   \n",
      "1                      0                     1   \n",
      "2                      0                     1   \n",
      "3                      0                     1   \n",
      "4                      1                     0   \n",
      "\n",
      "   Furnishing Status_Semi-Furnished  Furnishing Status_Unfurnished  ...  \\\n",
      "0                                 0                              1  ...   \n",
      "1                                 1                              0  ...   \n",
      "2                                 1                              0  ...   \n",
      "3                                 0                              1  ...   \n",
      "4                                 0                              1  ...   \n",
      "\n",
      "   Tenant Preferred_Family  Point of Contact_Contact Builder  \\\n",
      "0                        0                                 0   \n",
      "1                        0                                 0   \n",
      "2                        0                                 0   \n",
      "3                        0                                 0   \n",
      "4                        0                                 0   \n",
      "\n",
      "   Point of Contact_Contact Owner  City_Chennai  City_Delhi  City_Hyderabad  \\\n",
      "0                               1             0           0               0   \n",
      "1                               1             0           0               0   \n",
      "2                               1             0           0               0   \n",
      "3                               1             0           0               0   \n",
      "4                               1             0           0               0   \n",
      "\n",
      "   City_Kolkata  City_Mumbai  Floor_Number  Total_Floors  \n",
      "0             1            0             0             2  \n",
      "1             1            0             1             3  \n",
      "2             1            0             1             3  \n",
      "3             1            0             1             2  \n",
      "4             1            0             1             2  \n",
      "\n",
      "[5 rows x 21 columns]\n"
     ]
    }
   ],
   "source": [
    "# Перетворюємо всі колонки, які містять значення True/False або результат get_dummies, на 0 і 1\n",
    "# Ми перевіряємо тип даних і застосовуємо astype(int) тільки до відповідних колонок\n",
    "for column in df.columns:\n",
    "    if df[column].dtype == 'bool':\n",
    "        df[column] = df[column].astype(int)\n",
    "\n",
    "# Перевіряємо перші кілька рядків перетвореного DataFrame\n",
    "print(df.head())"
   ]
  },
  {
   "cell_type": "markdown",
   "metadata": {},
   "source": [
    "#### Перевірка кореляцій між змінними\n",
    "\n",
    "Перевіримо, які змінні мають сильні кореляції з метою прогнозування (змінна, що відповідає за ціну оренди нерухомості).\n",
    "Кореляційний аналіз допомагає ідентифікувати ознаки, які можуть мати найбільший вплив на цільову змінну. Це корисно для майбутнього вибору змінних для моделі."
   ]
  },
  {
   "cell_type": "code",
   "execution_count": 180,
   "metadata": {},
   "outputs": [
    {
     "name": "stdout",
     "output_type": "stream",
     "text": [
      "\n",
      "Типи даних у наборі:\n",
      "Posted On                            datetime64[ns]\n",
      "BHK                                           int64\n",
      "Rent                                          int64\n",
      "Size                                          int64\n",
      "Area Locality                                object\n",
      "Bathroom                                      int64\n",
      "Area Type_Carpet Area                         int64\n",
      "Area Type_Super Area                          int64\n",
      "Furnishing Status_Semi-Furnished              int64\n",
      "Furnishing Status_Unfurnished                 int64\n",
      "Tenant Preferred_Bachelors/Family             int64\n",
      "Tenant Preferred_Family                       int64\n",
      "Point of Contact_Contact Builder              int64\n",
      "Point of Contact_Contact Owner                int64\n",
      "City_Chennai                                  int64\n",
      "City_Delhi                                    int64\n",
      "City_Hyderabad                                int64\n",
      "City_Kolkata                                  int64\n",
      "City_Mumbai                                   int64\n",
      "Floor_Number                                  int64\n",
      "Total_Floors                                  int64\n",
      "dtype: object\n"
     ]
    }
   ],
   "source": [
    "# Перевірка типів даних\n",
    "print(\"\\nТипи даних у наборі:\")\n",
    "print(df.dtypes)"
   ]
  }
 ],
 "metadata": {
  "kernelspec": {
   "display_name": ".venv",
   "language": "python",
   "name": "python3"
  },
  "language_info": {
   "codemirror_mode": {
    "name": "ipython",
    "version": 3
   },
   "file_extension": ".py",
   "mimetype": "text/x-python",
   "name": "python",
   "nbconvert_exporter": "python",
   "pygments_lexer": "ipython3",
   "version": "3.10.12"
  }
 },
 "nbformat": 4,
 "nbformat_minor": 2
}
